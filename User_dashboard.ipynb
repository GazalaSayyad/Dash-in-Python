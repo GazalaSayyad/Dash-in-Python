{
  "nbformat": 4,
  "nbformat_minor": 0,
  "metadata": {
    "colab": {
      "name": "User dashboard.ipynb",
      "provenance": [],
      "collapsed_sections": [],
      "authorship_tag": "ABX9TyMOjU9h2L2wqgSAlidwNpHD",
      "include_colab_link": true
    },
    "kernelspec": {
      "name": "python3",
      "display_name": "Python 3"
    }
  },
  "cells": [
    {
      "cell_type": "markdown",
      "metadata": {
        "id": "view-in-github",
        "colab_type": "text"
      },
      "source": [
        "<a href=\"https://colab.research.google.com/github/GazalaSayyad/Dash-in-Python/blob/master/User_dashboard.ipynb\" target=\"_parent\"><img src=\"https://colab.research.google.com/assets/colab-badge.svg\" alt=\"Open In Colab\"/></a>"
      ]
    },
    {
      "cell_type": "markdown",
      "metadata": {
        "id": "kZU4CD1n9lOV",
        "colab_type": "text"
      },
      "source": [
        "Install dash "
      ]
    },
    {
      "cell_type": "code",
      "metadata": {
        "id": "upMbxN8H-RTR",
        "colab_type": "code",
        "colab": {
          "base_uri": "https://localhost:8080/",
          "height": 1000
        },
        "outputId": "5e5065ec-18b8-4ad7-8a80-8f87bdb8445c"
      },
      "source": [
        "!pip install dash==0.21.1  \n",
        "!pip install dash-renderer==0.13.0  \n",
        "!pip install dash-html-components==0.11.0\n",
        "!pip install dash-core-components==0.23.0  \n",
        "!pip install plotly --upgrade\n",
        "!pip install dash-auth"
      ],
      "execution_count": null,
      "outputs": [
        {
          "output_type": "stream",
          "text": [
            "Requirement already satisfied: dash==0.21.1 in /usr/local/lib/python3.6/dist-packages (0.21.1)\n",
            "Requirement already satisfied: Flask>=0.12 in /usr/local/lib/python3.6/dist-packages (from dash==0.21.1) (1.1.2)\n",
            "Requirement already satisfied: plotly in /usr/local/lib/python3.6/dist-packages (from dash==0.21.1) (4.9.0)\n",
            "Requirement already satisfied: flask-compress in /usr/local/lib/python3.6/dist-packages (from dash==0.21.1) (1.5.0)\n",
            "Requirement already satisfied: itsdangerous>=0.24 in /usr/local/lib/python3.6/dist-packages (from Flask>=0.12->dash==0.21.1) (1.1.0)\n",
            "Requirement already satisfied: Werkzeug>=0.15 in /usr/local/lib/python3.6/dist-packages (from Flask>=0.12->dash==0.21.1) (1.0.1)\n",
            "Requirement already satisfied: click>=5.1 in /usr/local/lib/python3.6/dist-packages (from Flask>=0.12->dash==0.21.1) (7.1.2)\n",
            "Requirement already satisfied: Jinja2>=2.10.1 in /usr/local/lib/python3.6/dist-packages (from Flask>=0.12->dash==0.21.1) (2.11.2)\n",
            "Requirement already satisfied: six in /usr/local/lib/python3.6/dist-packages (from plotly->dash==0.21.1) (1.15.0)\n",
            "Requirement already satisfied: retrying>=1.3.3 in /usr/local/lib/python3.6/dist-packages (from plotly->dash==0.21.1) (1.3.3)\n",
            "Requirement already satisfied: brotli in /usr/local/lib/python3.6/dist-packages (from flask-compress->dash==0.21.1) (1.0.9)\n",
            "Requirement already satisfied: MarkupSafe>=0.23 in /usr/local/lib/python3.6/dist-packages (from Jinja2>=2.10.1->Flask>=0.12->dash==0.21.1) (1.1.1)\n",
            "Requirement already satisfied: dash-renderer==0.13.0 in /usr/local/lib/python3.6/dist-packages (0.13.0)\n",
            "Requirement already satisfied: dash-html-components==0.11.0 in /usr/local/lib/python3.6/dist-packages (0.11.0)\n",
            "Requirement already satisfied: dash in /usr/local/lib/python3.6/dist-packages (from dash-html-components==0.11.0) (0.21.1)\n",
            "Requirement already satisfied: plotly in /usr/local/lib/python3.6/dist-packages (from dash->dash-html-components==0.11.0) (4.9.0)\n",
            "Requirement already satisfied: flask-compress in /usr/local/lib/python3.6/dist-packages (from dash->dash-html-components==0.11.0) (1.5.0)\n",
            "Requirement already satisfied: Flask>=0.12 in /usr/local/lib/python3.6/dist-packages (from dash->dash-html-components==0.11.0) (1.1.2)\n",
            "Requirement already satisfied: retrying>=1.3.3 in /usr/local/lib/python3.6/dist-packages (from plotly->dash->dash-html-components==0.11.0) (1.3.3)\n",
            "Requirement already satisfied: six in /usr/local/lib/python3.6/dist-packages (from plotly->dash->dash-html-components==0.11.0) (1.15.0)\n",
            "Requirement already satisfied: brotli in /usr/local/lib/python3.6/dist-packages (from flask-compress->dash->dash-html-components==0.11.0) (1.0.9)\n",
            "Requirement already satisfied: Jinja2>=2.10.1 in /usr/local/lib/python3.6/dist-packages (from Flask>=0.12->dash->dash-html-components==0.11.0) (2.11.2)\n",
            "Requirement already satisfied: click>=5.1 in /usr/local/lib/python3.6/dist-packages (from Flask>=0.12->dash->dash-html-components==0.11.0) (7.1.2)\n",
            "Requirement already satisfied: itsdangerous>=0.24 in /usr/local/lib/python3.6/dist-packages (from Flask>=0.12->dash->dash-html-components==0.11.0) (1.1.0)\n",
            "Requirement already satisfied: Werkzeug>=0.15 in /usr/local/lib/python3.6/dist-packages (from Flask>=0.12->dash->dash-html-components==0.11.0) (1.0.1)\n",
            "Requirement already satisfied: MarkupSafe>=0.23 in /usr/local/lib/python3.6/dist-packages (from Jinja2>=2.10.1->Flask>=0.12->dash->dash-html-components==0.11.0) (1.1.1)\n",
            "Requirement already satisfied: dash-core-components==0.23.0 in /usr/local/lib/python3.6/dist-packages (0.23.0)\n",
            "Requirement already satisfied: dash in /usr/local/lib/python3.6/dist-packages (from dash-core-components==0.23.0) (0.21.1)\n",
            "Requirement already satisfied: plotly in /usr/local/lib/python3.6/dist-packages (from dash->dash-core-components==0.23.0) (4.9.0)\n",
            "Requirement already satisfied: flask-compress in /usr/local/lib/python3.6/dist-packages (from dash->dash-core-components==0.23.0) (1.5.0)\n",
            "Requirement already satisfied: Flask>=0.12 in /usr/local/lib/python3.6/dist-packages (from dash->dash-core-components==0.23.0) (1.1.2)\n",
            "Requirement already satisfied: six in /usr/local/lib/python3.6/dist-packages (from plotly->dash->dash-core-components==0.23.0) (1.15.0)\n",
            "Requirement already satisfied: retrying>=1.3.3 in /usr/local/lib/python3.6/dist-packages (from plotly->dash->dash-core-components==0.23.0) (1.3.3)\n",
            "Requirement already satisfied: brotli in /usr/local/lib/python3.6/dist-packages (from flask-compress->dash->dash-core-components==0.23.0) (1.0.9)\n",
            "Requirement already satisfied: click>=5.1 in /usr/local/lib/python3.6/dist-packages (from Flask>=0.12->dash->dash-core-components==0.23.0) (7.1.2)\n",
            "Requirement already satisfied: Werkzeug>=0.15 in /usr/local/lib/python3.6/dist-packages (from Flask>=0.12->dash->dash-core-components==0.23.0) (1.0.1)\n",
            "Requirement already satisfied: Jinja2>=2.10.1 in /usr/local/lib/python3.6/dist-packages (from Flask>=0.12->dash->dash-core-components==0.23.0) (2.11.2)\n",
            "Requirement already satisfied: itsdangerous>=0.24 in /usr/local/lib/python3.6/dist-packages (from Flask>=0.12->dash->dash-core-components==0.23.0) (1.1.0)\n",
            "Requirement already satisfied: MarkupSafe>=0.23 in /usr/local/lib/python3.6/dist-packages (from Jinja2>=2.10.1->Flask>=0.12->dash->dash-core-components==0.23.0) (1.1.1)\n",
            "Requirement already up-to-date: plotly in /usr/local/lib/python3.6/dist-packages (4.9.0)\n",
            "Requirement already satisfied, skipping upgrade: retrying>=1.3.3 in /usr/local/lib/python3.6/dist-packages (from plotly) (1.3.3)\n",
            "Requirement already satisfied, skipping upgrade: six in /usr/local/lib/python3.6/dist-packages (from plotly) (1.15.0)\n",
            "Collecting dash-auth\n",
            "\u001b[?25l  Downloading https://files.pythonhosted.org/packages/79/0f/344b6cd09ae1b3210a534b4fd370d1e513a315d0703c9797f85aba9a4d08/dash_auth-1.4.1.tar.gz (470kB)\n",
            "\u001b[K     |████████████████████████████████| 471kB 2.7MB/s \n",
            "\u001b[?25hCollecting chart_studio>=1.0.0\n",
            "\u001b[?25l  Downloading https://files.pythonhosted.org/packages/ca/ce/330794a6b6ca4b9182c38fc69dd2a9cbff60fd49421cb8648ee5fee352dc/chart_studio-1.1.0-py3-none-any.whl (64kB)\n",
            "\u001b[K     |████████████████████████████████| 71kB 6.8MB/s \n",
            "\u001b[?25hRequirement already satisfied: Flask>=1.0.2 in /usr/local/lib/python3.6/dist-packages (from dash-auth) (1.1.2)\n",
            "Requirement already satisfied: flask-compress in /usr/local/lib/python3.6/dist-packages (from dash-auth) (1.5.0)\n",
            "Collecting flask-seasurf\n",
            "  Downloading https://files.pythonhosted.org/packages/9b/24/28e73616f4c8a8d1c265248a9c7cc12715b286cbfef90f1227a3402792f2/Flask-SeaSurf-0.2.2.tar.gz\n",
            "Collecting dash>=1.1.1\n",
            "\u001b[?25l  Downloading https://files.pythonhosted.org/packages/e2/38/a228339b70a6f4f2673805c055a0b08295c0e4622ef7b6670f28559c8594/dash-1.15.0.tar.gz (71kB)\n",
            "\u001b[K     |████████████████████████████████| 71kB 6.1MB/s \n",
            "\u001b[?25hRequirement already satisfied: requests in /usr/local/lib/python3.6/dist-packages (from dash-auth) (2.23.0)\n",
            "Requirement already satisfied: retrying in /usr/local/lib/python3.6/dist-packages (from dash-auth) (1.3.3)\n",
            "Requirement already satisfied: itsdangerous>=1.1.0 in /usr/local/lib/python3.6/dist-packages (from dash-auth) (1.1.0)\n",
            "Collecting ua_parser\n",
            "  Downloading https://files.pythonhosted.org/packages/9d/22/4d16b08db329fd440eed366d35e4dd7195c9babb4ecac5218f28081522a2/ua_parser-0.10.0-py2.py3-none-any.whl\n",
            "Requirement already satisfied: six in /usr/local/lib/python3.6/dist-packages (from chart_studio>=1.0.0->dash-auth) (1.15.0)\n",
            "Requirement already satisfied: plotly in /usr/local/lib/python3.6/dist-packages (from chart_studio>=1.0.0->dash-auth) (4.9.0)\n",
            "Requirement already satisfied: Werkzeug>=0.15 in /usr/local/lib/python3.6/dist-packages (from Flask>=1.0.2->dash-auth) (1.0.1)\n",
            "Requirement already satisfied: click>=5.1 in /usr/local/lib/python3.6/dist-packages (from Flask>=1.0.2->dash-auth) (7.1.2)\n",
            "Requirement already satisfied: Jinja2>=2.10.1 in /usr/local/lib/python3.6/dist-packages (from Flask>=1.0.2->dash-auth) (2.11.2)\n",
            "Requirement already satisfied: brotli in /usr/local/lib/python3.6/dist-packages (from flask-compress->dash-auth) (1.0.9)\n",
            "Collecting dash_renderer==1.7.0\n",
            "\u001b[?25l  Downloading https://files.pythonhosted.org/packages/3a/02/55396e3763cf419d5db74ef3969d430c35501800b83c9365b4b48756877b/dash_renderer-1.7.0.tar.gz (1.2MB)\n",
            "\u001b[K     |████████████████████████████████| 1.2MB 9.0MB/s \n",
            "\u001b[?25hCollecting dash-core-components==1.11.0\n",
            "\u001b[?25l  Downloading https://files.pythonhosted.org/packages/d9/fb/5dc7e59239905c087dcc3781b5f23ae20937c2249c731ced8e7784334083/dash_core_components-1.11.0.tar.gz (3.4MB)\n",
            "\u001b[K     |████████████████████████████████| 3.4MB 17.9MB/s \n",
            "\u001b[?25hCollecting dash-html-components==1.1.0\n",
            "\u001b[?25l  Downloading https://files.pythonhosted.org/packages/35/c7/93c8ac4c6b5ace4e3613edcc0c55e5037d899b67f468c208113c3af5d13c/dash_html_components-1.1.0.tar.gz (188kB)\n",
            "\u001b[K     |████████████████████████████████| 194kB 30.4MB/s \n",
            "\u001b[?25hCollecting dash-table==4.10.0\n",
            "\u001b[?25l  Downloading https://files.pythonhosted.org/packages/31/0c/962ac8ab886597d7fe16befc075b7e7f5483f1a9e8b4459731646c19248c/dash_table-4.10.0.tar.gz (1.8MB)\n",
            "\u001b[K     |████████████████████████████████| 1.8MB 36.3MB/s \n",
            "\u001b[?25hRequirement already satisfied: future in /usr/local/lib/python3.6/dist-packages (from dash>=1.1.1->dash-auth) (0.16.0)\n",
            "Requirement already satisfied: idna<3,>=2.5 in /usr/local/lib/python3.6/dist-packages (from requests->dash-auth) (2.10)\n",
            "Requirement already satisfied: chardet<4,>=3.0.2 in /usr/local/lib/python3.6/dist-packages (from requests->dash-auth) (3.0.4)\n",
            "Requirement already satisfied: urllib3!=1.25.0,!=1.25.1,<1.26,>=1.21.1 in /usr/local/lib/python3.6/dist-packages (from requests->dash-auth) (1.24.3)\n",
            "Requirement already satisfied: certifi>=2017.4.17 in /usr/local/lib/python3.6/dist-packages (from requests->dash-auth) (2020.6.20)\n",
            "Requirement already satisfied: MarkupSafe>=0.23 in /usr/local/lib/python3.6/dist-packages (from Jinja2>=2.10.1->Flask>=1.0.2->dash-auth) (1.1.1)\n",
            "Building wheels for collected packages: dash-auth, flask-seasurf, dash, dash-renderer, dash-core-components, dash-html-components, dash-table\n",
            "  Building wheel for dash-auth (setup.py) ... \u001b[?25l\u001b[?25hdone\n",
            "  Created wheel for dash-auth: filename=dash_auth-1.4.1-cp36-none-any.whl size=476154 sha256=19bb27a893050ad500d4c218447a1f60d2ae9ca702bab40906fb175266ce3238\n",
            "  Stored in directory: /root/.cache/pip/wheels/9b/6d/64/a95a7e2050ba581161fcf27f862806368bbc34b998e6bc2d37\n",
            "  Building wheel for flask-seasurf (setup.py) ... \u001b[?25l\u001b[?25hdone\n",
            "  Created wheel for flask-seasurf: filename=Flask_SeaSurf-0.2.2-cp36-none-any.whl size=5562 sha256=8a9180317c5809b948c47ba21a0519226d8bf3c9ea5f1e0af9dfa5ffef918807\n",
            "  Stored in directory: /root/.cache/pip/wheels/75/4a/8e/ca53c401e38aa1e0e6cd626c9bc3ef5230e362e385358779fb\n",
            "  Building wheel for dash (setup.py) ... \u001b[?25l\u001b[?25hdone\n",
            "  Created wheel for dash: filename=dash-1.15.0-cp36-none-any.whl size=80892 sha256=5228bf085504e0f112a01c96021bf7c3dfa8ac5732e723c0c8772097d63ef024\n",
            "  Stored in directory: /root/.cache/pip/wheels/d7/47/47/83e04669b545172324bae30853a71afe2962b733c568a229fe\n",
            "  Building wheel for dash-renderer (setup.py) ... \u001b[?25l\u001b[?25hdone\n",
            "  Created wheel for dash-renderer: filename=dash_renderer-1.7.0-cp36-none-any.whl size=1182220 sha256=90a03d17be65d6639abb424ba7bdd2685d2266fe179a86ab083d3b7a2e47be8d\n",
            "  Stored in directory: /root/.cache/pip/wheels/a3/92/2c/18cc58f2d0ae324a59cbb536d209858f1d8d1323c13088be9d\n",
            "  Building wheel for dash-core-components (setup.py) ... \u001b[?25l\u001b[?25hdone\n",
            "  Created wheel for dash-core-components: filename=dash_core_components-1.11.0-cp36-none-any.whl size=3458465 sha256=65067a093e40df34846451e7984e174c3b96eeea39b06cd9341a3898d0e5e7e4\n",
            "  Stored in directory: /root/.cache/pip/wheels/b5/7d/d6/146beff4111581776c6ab8b045e86990ec0b4ab65dc9027405\n",
            "  Building wheel for dash-html-components (setup.py) ... \u001b[?25l\u001b[?25hdone\n",
            "  Created wheel for dash-html-components: filename=dash_html_components-1.1.0-cp36-none-any.whl size=427895 sha256=59f1a3c9f3c98e7715178af9965fba83f949da09431950ce4a39f4ed50c378f7\n",
            "  Stored in directory: /root/.cache/pip/wheels/f6/85/5d/b5a186fbcd2409f32c07141e0eabcaba2eecca6cbee498dab8\n",
            "  Building wheel for dash-table (setup.py) ... \u001b[?25l\u001b[?25hdone\n",
            "  Created wheel for dash-table: filename=dash_table-4.10.0-cp36-none-any.whl size=1824998 sha256=83816fdeea6d0abf234b199a96c1d66d3f4f99ed97d2330caef19d1649e3d020\n",
            "  Stored in directory: /root/.cache/pip/wheels/5b/00/a7/5bf2529ccc7c97f6fcae13dafd6742d3be1146d0db45468cc9\n",
            "Successfully built dash-auth flask-seasurf dash dash-renderer dash-core-components dash-html-components dash-table\n",
            "Installing collected packages: chart-studio, flask-seasurf, dash-renderer, dash-core-components, dash-html-components, dash-table, dash, ua-parser, dash-auth\n",
            "  Found existing installation: dash-renderer 0.13.0\n",
            "    Uninstalling dash-renderer-0.13.0:\n",
            "      Successfully uninstalled dash-renderer-0.13.0\n",
            "  Found existing installation: dash-core-components 0.23.0\n",
            "    Uninstalling dash-core-components-0.23.0:\n",
            "      Successfully uninstalled dash-core-components-0.23.0\n",
            "  Found existing installation: dash-html-components 0.11.0\n",
            "    Uninstalling dash-html-components-0.11.0:\n",
            "      Successfully uninstalled dash-html-components-0.11.0\n",
            "  Found existing installation: dash 0.21.1\n",
            "    Uninstalling dash-0.21.1:\n",
            "      Successfully uninstalled dash-0.21.1\n",
            "Successfully installed chart-studio-1.1.0 dash-1.15.0 dash-auth-1.4.1 dash-core-components-1.11.0 dash-html-components-1.1.0 dash-renderer-1.7.0 dash-table-4.10.0 flask-seasurf-0.2.2 ua-parser-0.10.0\n"
          ],
          "name": "stdout"
        }
      ]
    },
    {
      "cell_type": "code",
      "metadata": {
        "id": "5OBcKg1oV13J",
        "colab_type": "code",
        "colab": {
          "base_uri": "https://localhost:8080/",
          "height": 119
        },
        "outputId": "476b7191-3027-41dc-c93f-f7e16873649a"
      },
      "source": [
        "%%sh\n",
        "# get ngrok\n",
        "curl -O https://bin.equinox.io/c/4VmDzA7iaHb/ngrok-stable-linux-amd64.zip\n",
        "unzip ngrok-stable-linux-amd64.zip"
      ],
      "execution_count": null,
      "outputs": [
        {
          "output_type": "stream",
          "text": [
            "Archive:  ngrok-stable-linux-amd64.zip\n"
          ],
          "name": "stdout"
        },
        {
          "output_type": "stream",
          "text": [
            "  % Total    % Received % Xferd  Average Speed   Time    Time     Time  Current\n",
            "                                 Dload  Upload   Total   Spent    Left  Speed\n",
            "\r  0     0    0     0    0     0      0      0 --:--:-- --:--:-- --:--:--     0\r  0     0    0     0    0     0      0      0 --:--:-- --:--:-- --:--:--     0\r  0 13.1M    0 48656    0     0  41764      0  0:05:29  0:00:01  0:05:28 41728\r 26 13.1M   26 3594k    0     0  1608k      0  0:00:08  0:00:02  0:00:06 1607k\r100 13.1M  100 13.1M    0     0  4847k      0  0:00:02  0:00:02 --:--:-- 4845k\n",
            "replace ngrok? [y]es, [n]o, [A]ll, [N]one, [r]ename:  NULL\n",
            "(EOF or read error, treating as \"[N]one\" ...)\n"
          ],
          "name": "stderr"
        }
      ]
    },
    {
      "cell_type": "code",
      "metadata": {
        "id": "nOSP2h9kZ0TZ",
        "colab_type": "code",
        "colab": {
          "base_uri": "https://localhost:8080/",
          "height": 266
        },
        "outputId": "e7827c20-7668-40c2-8ca0-844f9b3831b7"
      },
      "source": [
        "import pandas as pd\n",
        "df = pd.read_excel(\"Service Provider Daily Report (Responses).xlsx\")\n",
        "df"
      ],
      "execution_count": null,
      "outputs": [
        {
          "output_type": "execute_result",
          "data": {
            "text/html": [
              "<div>\n",
              "<style scoped>\n",
              "    .dataframe tbody tr th:only-of-type {\n",
              "        vertical-align: middle;\n",
              "    }\n",
              "\n",
              "    .dataframe tbody tr th {\n",
              "        vertical-align: top;\n",
              "    }\n",
              "\n",
              "    .dataframe thead th {\n",
              "        text-align: right;\n",
              "    }\n",
              "</style>\n",
              "<table border=\"1\" class=\"dataframe\">\n",
              "  <thead>\n",
              "    <tr style=\"text-align: right;\">\n",
              "      <th></th>\n",
              "      <th>Timestamp</th>\n",
              "      <th>User Id</th>\n",
              "      <th>Date</th>\n",
              "      <th>Starting Time</th>\n",
              "      <th>Leaving Time</th>\n",
              "      <th>Total Sales today(in 1000)</th>\n",
              "      <th>Total Profit Earned</th>\n",
              "    </tr>\n",
              "  </thead>\n",
              "  <tbody>\n",
              "    <tr>\n",
              "      <th>0</th>\n",
              "      <td>2020-08-27 15:01:48.855</td>\n",
              "      <td>SP0001</td>\n",
              "      <td>2020-08-27</td>\n",
              "      <td>10:30:00</td>\n",
              "      <td>18:30:00</td>\n",
              "      <td>15</td>\n",
              "      <td>4000</td>\n",
              "    </tr>\n",
              "    <tr>\n",
              "      <th>1</th>\n",
              "      <td>2020-08-27 15:10:21.990</td>\n",
              "      <td>SP1204</td>\n",
              "      <td>2020-08-27</td>\n",
              "      <td>09:00:00</td>\n",
              "      <td>07:00:00</td>\n",
              "      <td>7</td>\n",
              "      <td>2000</td>\n",
              "    </tr>\n",
              "    <tr>\n",
              "      <th>2</th>\n",
              "      <td>2020-08-27 16:52:20.206</td>\n",
              "      <td>SP8468</td>\n",
              "      <td>2020-08-27</td>\n",
              "      <td>20:51:00</td>\n",
              "      <td>05:51:00</td>\n",
              "      <td>9000</td>\n",
              "      <td>4000</td>\n",
              "    </tr>\n",
              "    <tr>\n",
              "      <th>3</th>\n",
              "      <td>2020-08-27 17:08:24.412</td>\n",
              "      <td>SP1358</td>\n",
              "      <td>2020-08-14</td>\n",
              "      <td>03:00:00</td>\n",
              "      <td>21:30:00</td>\n",
              "      <td>6000</td>\n",
              "      <td>3000</td>\n",
              "    </tr>\n",
              "    <tr>\n",
              "      <th>4</th>\n",
              "      <td>2020-08-27 17:08:58.801</td>\n",
              "      <td>SP4693</td>\n",
              "      <td>2020-08-17</td>\n",
              "      <td>02:20:00</td>\n",
              "      <td>15:30:00</td>\n",
              "      <td>8000</td>\n",
              "      <td>3000</td>\n",
              "    </tr>\n",
              "    <tr>\n",
              "      <th>5</th>\n",
              "      <td>2020-08-27 17:09:30.841</td>\n",
              "      <td>SP9853</td>\n",
              "      <td>2020-08-23</td>\n",
              "      <td>01:30:00</td>\n",
              "      <td>17:00:00</td>\n",
              "      <td>9000</td>\n",
              "      <td>5000</td>\n",
              "    </tr>\n",
              "    <tr>\n",
              "      <th>6</th>\n",
              "      <td>2020-08-27 17:10:37.288</td>\n",
              "      <td>SP0762</td>\n",
              "      <td>2020-08-23</td>\n",
              "      <td>01:00:00</td>\n",
              "      <td>21:00:00</td>\n",
              "      <td>6500</td>\n",
              "      <td>4500</td>\n",
              "    </tr>\n",
              "  </tbody>\n",
              "</table>\n",
              "</div>"
            ],
            "text/plain": [
              "                Timestamp  ... Total Profit Earned\n",
              "0 2020-08-27 15:01:48.855  ...                4000\n",
              "1 2020-08-27 15:10:21.990  ...                2000\n",
              "2 2020-08-27 16:52:20.206  ...                4000\n",
              "3 2020-08-27 17:08:24.412  ...                3000\n",
              "4 2020-08-27 17:08:58.801  ...                3000\n",
              "5 2020-08-27 17:09:30.841  ...                5000\n",
              "6 2020-08-27 17:10:37.288  ...                4500\n",
              "\n",
              "[7 rows x 7 columns]"
            ]
          },
          "metadata": {
            "tags": []
          },
          "execution_count": 67
        }
      ]
    },
    {
      "cell_type": "code",
      "metadata": {
        "id": "ZEO3qXOzd4jE",
        "colab_type": "code",
        "colab": {
          "base_uri": "https://localhost:8080/",
          "height": 266
        },
        "outputId": "96ba0879-3d72-495f-cc24-1a4952cffae3"
      },
      "source": [
        "df = df.drop(columns=['Timestamp', 'Starting Time','Leaving Time'])\n",
        "df"
      ],
      "execution_count": null,
      "outputs": [
        {
          "output_type": "execute_result",
          "data": {
            "text/html": [
              "<div>\n",
              "<style scoped>\n",
              "    .dataframe tbody tr th:only-of-type {\n",
              "        vertical-align: middle;\n",
              "    }\n",
              "\n",
              "    .dataframe tbody tr th {\n",
              "        vertical-align: top;\n",
              "    }\n",
              "\n",
              "    .dataframe thead th {\n",
              "        text-align: right;\n",
              "    }\n",
              "</style>\n",
              "<table border=\"1\" class=\"dataframe\">\n",
              "  <thead>\n",
              "    <tr style=\"text-align: right;\">\n",
              "      <th></th>\n",
              "      <th>User Id</th>\n",
              "      <th>Date</th>\n",
              "      <th>Total Sales today(in 1000)</th>\n",
              "      <th>Total Profit Earned</th>\n",
              "    </tr>\n",
              "  </thead>\n",
              "  <tbody>\n",
              "    <tr>\n",
              "      <th>0</th>\n",
              "      <td>SP0001</td>\n",
              "      <td>2020-08-27</td>\n",
              "      <td>15</td>\n",
              "      <td>4000</td>\n",
              "    </tr>\n",
              "    <tr>\n",
              "      <th>1</th>\n",
              "      <td>SP1204</td>\n",
              "      <td>2020-08-27</td>\n",
              "      <td>7</td>\n",
              "      <td>2000</td>\n",
              "    </tr>\n",
              "    <tr>\n",
              "      <th>2</th>\n",
              "      <td>SP8468</td>\n",
              "      <td>2020-08-27</td>\n",
              "      <td>9000</td>\n",
              "      <td>4000</td>\n",
              "    </tr>\n",
              "    <tr>\n",
              "      <th>3</th>\n",
              "      <td>SP1358</td>\n",
              "      <td>2020-08-14</td>\n",
              "      <td>6000</td>\n",
              "      <td>3000</td>\n",
              "    </tr>\n",
              "    <tr>\n",
              "      <th>4</th>\n",
              "      <td>SP4693</td>\n",
              "      <td>2020-08-17</td>\n",
              "      <td>8000</td>\n",
              "      <td>3000</td>\n",
              "    </tr>\n",
              "    <tr>\n",
              "      <th>5</th>\n",
              "      <td>SP9853</td>\n",
              "      <td>2020-08-23</td>\n",
              "      <td>9000</td>\n",
              "      <td>5000</td>\n",
              "    </tr>\n",
              "    <tr>\n",
              "      <th>6</th>\n",
              "      <td>SP0762</td>\n",
              "      <td>2020-08-23</td>\n",
              "      <td>6500</td>\n",
              "      <td>4500</td>\n",
              "    </tr>\n",
              "  </tbody>\n",
              "</table>\n",
              "</div>"
            ],
            "text/plain": [
              "  User Id       Date  Total Sales today(in 1000)  Total Profit Earned\n",
              "0  SP0001 2020-08-27                          15                 4000\n",
              "1  SP1204 2020-08-27                           7                 2000\n",
              "2  SP8468 2020-08-27                        9000                 4000\n",
              "3  SP1358 2020-08-14                        6000                 3000\n",
              "4  SP4693 2020-08-17                        8000                 3000\n",
              "5  SP9853 2020-08-23                        9000                 5000\n",
              "6  SP0762 2020-08-23                        6500                 4500"
            ]
          },
          "metadata": {
            "tags": []
          },
          "execution_count": 68
        }
      ]
    },
    {
      "cell_type": "code",
      "metadata": {
        "id": "8n9DIfJSf3Es",
        "colab_type": "code",
        "colab": {}
      },
      "source": [
        "pv =pd.pivot_table(df,index=[\"User Id\"])"
      ],
      "execution_count": null,
      "outputs": []
    },
    {
      "cell_type": "code",
      "metadata": {
        "id": "NXusIaQpgD2o",
        "colab_type": "code",
        "colab": {}
      },
      "source": [
        "trace1 = go.Bar(x=pv.index,y=pv[('Total Sales today(in 1000)')],name='Total Sales today(in 1000)')\n",
        "trace2 = go.Bar(x=pv.index, y=pv[('Total Profit Earned')], name='Total Profit Earned')\n",
        "\n"
      ],
      "execution_count": null,
      "outputs": []
    },
    {
      "cell_type": "code",
      "metadata": {
        "id": "LlADI0plha69",
        "colab_type": "code",
        "colab": {
          "base_uri": "https://localhost:8080/",
          "height": 34
        },
        "outputId": "9a655e73-8a15-498f-e67c-3d26c495ed54"
      },
      "source": [
        "\n",
        "%%writefile dash_app.py\n",
        "import dash\n",
        "import dash_auth\n",
        "import dash_core_components as dcc\n",
        "import dash_html_components as html\n",
        "import plotly.graph_objs as go\n",
        "import pandas as pd\n",
        "\n",
        "\n",
        "VALID_USERNAME_PASSWORD_PAIRS = {\n",
        "    'SSS': 'india'\n",
        "}\n",
        "\n",
        "external_stylesheets = ['https://codepen.io/chriddyp/pen/bWLwgP.css']\n",
        "\n",
        "app = dash.Dash(__name__)#, external_stylesheets=external_stylesheets)\n",
        "auth = dash_auth.BasicAuth(\n",
        "    app,\n",
        "    VALID_USERNAME_PASSWORD_PAIRS\n",
        ")\n",
        "\n",
        "df = pd.read_excel(\"Service Provider Daily Report (Responses).xlsx\")\n",
        "pv = pd.pivot_table(df, index=['User Id'],values=['Total Sales today(in 1000)','Total Profit Earned'])\n",
        "trace1 = go.Bar(x=pv.index,y=pv[('Total Sales today(in 1000)')],name='Total Sales today(in 1000)')\n",
        "trace2 = go.Bar(x=pv.index, y=pv[('Total Profit Earned')], name='Total Profit Earned')\n",
        "app.layout = html.Div(children=[\n",
        "    html.H1(children='Sales and Profit Earned Report'),\n",
        "    html.Div(children='''Sales Report.'''),\n",
        "    dcc.Graph(\n",
        "        id='example-graph',\n",
        "        figure={\n",
        "            'data': [trace1, trace2],\n",
        "            'layout':\n",
        "            go.Layout(title='SSS User', barmode='stack')\n",
        "        })\n",
        "])\n",
        "if __name__ == '__main__':\n",
        "    app.run_server(debug=True)"
      ],
      "execution_count": null,
      "outputs": [
        {
          "output_type": "stream",
          "text": [
            "Overwriting dash_app.py\n"
          ],
          "name": "stdout"
        }
      ]
    },
    {
      "cell_type": "code",
      "metadata": {
        "id": "war24dsCilyK",
        "colab_type": "code",
        "colab": {}
      },
      "source": [
        "# launch ngrok\n",
        "get_ipython().system_raw('./ngrok http 8050 &')"
      ],
      "execution_count": null,
      "outputs": []
    },
    {
      "cell_type": "code",
      "metadata": {
        "id": "Yo_xRO2DiruP",
        "colab_type": "code",
        "colab": {
          "base_uri": "https://localhost:8080/",
          "height": 34
        },
        "outputId": "a1454e08-cfd4-44f6-a12e-b0e1f6ee7332"
      },
      "source": [
        "%%sh\n",
        "# get url with ngrok\n",
        "curl -s http://localhost:4040/api/tunnels | python3 -c \"import sys, json; print(json.load(sys.stdin)['tunnels'][0]['public_url'])\""
      ],
      "execution_count": null,
      "outputs": [
        {
          "output_type": "stream",
          "text": [
            "http://c59516074107.ngrok.io\n"
          ],
          "name": "stdout"
        }
      ]
    },
    {
      "cell_type": "code",
      "metadata": {
        "id": "A1AfCg7_ivCY",
        "colab_type": "code",
        "colab": {}
      },
      "source": [
        "!python dash_app.py"
      ],
      "execution_count": null,
      "outputs": []
    }
  ]
}